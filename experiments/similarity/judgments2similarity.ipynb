{
 "cells": [
  {
   "cell_type": "code",
   "execution_count": 8,
   "metadata": {},
   "outputs": [],
   "source": [
    "import numpy as np\n",
    "import scipy.io as sio"
   ]
  },
  {
   "cell_type": "code",
   "execution_count": 9,
   "metadata": {},
   "outputs": [],
   "source": [
    "mat = sio.loadmat('ticelJudgments.mat')\n",
    "\n",
    "# name of the 78 IPTs\n",
    "names = mat['names']\n",
    "\n",
    "# groups indexes given by the 31 subjects. groups[1, 3]=groups[1, 2], then subject 1 grouped IPT 2 and 3 together \n",
    "groups = mat['ci']"
   ]
  },
  {
   "cell_type": "code",
   "execution_count": 10,
   "metadata": {},
   "outputs": [],
   "source": [
    "sim = np.zeros((len(names), len(names)))\n",
    "\n",
    "for s in range(groups.shape[0]):\n",
    "    for n in range(len(names)):\n",
    "        for m in range(len(names)):\n",
    "            if groups[s, n] == groups[s, m]:\n",
    "                sim[n, m] += 1"
   ]
  },
  {
   "cell_type": "code",
   "execution_count": 11,
   "metadata": {},
   "outputs": [],
   "source": [
    "np.savez('ticelSimilarity.npz', names=names, groups=groups, similarity=sim)"
   ]
  },
  {
   "cell_type": "code",
   "execution_count": null,
   "metadata": {},
   "outputs": [],
   "source": []
  }
 ],
 "metadata": {
  "kernelspec": {
   "display_name": "Python 3.8.5 ('base')",
   "language": "python",
   "name": "python3"
  },
  "language_info": {
   "codemirror_mode": {
    "name": "ipython",
    "version": 3
   },
   "file_extension": ".py",
   "mimetype": "text/x-python",
   "name": "python",
   "nbconvert_exporter": "python",
   "pygments_lexer": "ipython3",
   "version": "3.8.5"
  },
  "orig_nbformat": 4,
  "vscode": {
   "interpreter": {
    "hash": "fcadfae7c372984d5f9a8d2a0d6b9bf157d42becd6f9b0030acea3fd37f7f870"
   }
  }
 },
 "nbformat": 4,
 "nbformat_minor": 2
}
