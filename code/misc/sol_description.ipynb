{
 "cells": [
  {
   "cell_type": "code",
   "execution_count": 106,
   "metadata": {},
   "outputs": [],
   "source": []
  },
  {
   "cell_type": "code",
   "execution_count": 1,
   "metadata": {},
   "outputs": [
    {
     "name": "stdout",
     "output_type": "stream",
     "text": [
      "Notes per instrument (#instruments=16):\n",
      "    767 Accordion\n",
      "   1071 Alto-Sax\n",
      "    945 Bass-Tuba\n",
      "    847 Bassoon\n",
      "   1324 Clarinet-Bb\n",
      "   2891 Contrabass\n",
      "   1194 Flute\n",
      "    636 Guitar\n",
      "   1318 Harp\n",
      "   1165 Horn\n",
      "   1034 Oboe\n",
      "   1761 Tenor-Trombone\n",
      "   1027 Trumpet-C\n",
      "   3380 Viola\n",
      "   3202 Violin\n",
      "   2882 Violoncello\n",
      "\n",
      "Notes per mute (#mutes=7):\n",
      "  22560 NULL\n",
      "    126 cup\n",
      "    131 harmon\n",
      "   1758 sordina\n",
      "    391 sordina-piombo\n",
      "    127 straight\n",
      "    351 wah\n",
      "\n",
      "Notes per instrument-mute pair (#pairs=33):\n",
      "    767 Accordion\n",
      "   1071 Alto-Sax\n",
      "    945 Bass-Tuba\n",
      "    847 Bassoon\n",
      "   1324 Clarinet-Bb\n",
      "   2540 Contrabass\n",
      "    351 Contrabass-sordina\n",
      "   1194 Flute\n",
      "    636 Guitar\n",
      "   1318 Harp\n",
      "   1078 Horn\n",
      "     87 Horn-sordina\n",
      "    998 Oboe\n",
      "     36 Oboe-sordina\n",
      "   1385 Tenor-Trombone\n",
      "     62 Tenor-Trombone-cup\n",
      "     66 Tenor-Trombone-harmon\n",
      "     62 Tenor-Trombone-straight\n",
      "    186 Tenor-Trombone-wah\n",
      "    668 Trumpet-C\n",
      "     64 Trumpet-C-cup\n",
      "     65 Trumpet-C-harmon\n",
      "     65 Trumpet-C-straight\n",
      "    165 Trumpet-C-wah\n",
      "   2875 Viola\n",
      "    380 Viola-sordina\n",
      "    125 Viola-sordina-piombo\n",
      "   2526 Violin\n",
      "    553 Violin-sordina\n",
      "    123 Violin-sordina-piombo\n",
      "   2388 Violoncello\n",
      "    351 Violoncello-sordina\n",
      "    143 Violoncello-sordina-piombo\n",
      "\n",
      "Number of playing techniques by instrument (#techniques=143):\n",
      "     11 Accordion\n",
      "     33 Alto-Sax\n",
      "     41 Bass-Tuba\n",
      "     17 Bassoon\n",
      "     17 Clarinet-Bb\n",
      "     38 Contrabass\n",
      "     28 Flute\n",
      "     16 Guitar\n",
      "     25 Harp\n",
      "     20 Horn\n",
      "     21 Oboe\n",
      "     23 Tenor-Trombone\n",
      "     26 Trumpet-C\n",
      "     39 Viola\n",
      "     38 Violin\n",
      "     40 Violoncello\n"
     ]
    }
   ],
   "source": [
    "from collections import Counter\n",
    "import numpy as np\n",
    "import scipy.io\n",
    "\n",
    "X = [x[0] for x in scipy.io.loadmat('sol_description.mat')[\"data\"][0][0][-4].ravel()]\n",
    "X_folders = [x.split(\"/\")[0] for x in X]\n",
    "instrmutes_counter = Counter(X_folders)\n",
    "\n",
    "instrmute_dict = {}\n",
    "for instrmute_str in instrmutes_counter.keys():\n",
    "    instrmute_hyphen_split = instrmute_str.split(\"-\")\n",
    "    instrmute_where = np.where(np.array(list(map(\n",
    "        lambda x: x.islower(), instrmute_hyphen_split))))[0]\n",
    "    instrmute_split = [instrmute_str, \"NULL\"]\n",
    "    if len(instrmute_where)>0:\n",
    "        instrmute_split = [\n",
    "            \"-\".join(instrmute_hyphen_split[:instrmute_where[0]]),\n",
    "            \"-\".join(instrmute_hyphen_split[instrmute_where[0]:])]        \n",
    "    instrmute_dict[instrmute_str] = instrmute_split\n",
    "    \n",
    "instr_dict ={instr_str: sum(map(lambda x: x.startswith(instr_str), X_folders))\n",
    " for instr_str in Counter(map(lambda x: x[0], instrmute_dict.values())).keys()}\n",
    "print(\"Notes per instrument (#instruments={}):\\n\".format(len(instr_dict)) +\\\n",
    "      \"\\n\".join([\"  {:s} {:s}\".format(str(instr_dict[k]).rjust(5), k) \n",
    "                   for k in sorted(instr_dict.keys())]) + \"\\n\")\n",
    "\n",
    "mutes_dict ={must_str: sum(map(lambda x: x.endswith(must_str), X_folders))\n",
    " for must_str in Counter(map(lambda x: x[1], instrmute_dict.values())).keys()}\n",
    "mutes_dict[\"NULL\"] = sum(instr_dict.values()) - sum(mutes_dict.values())\n",
    "print(\"Notes per mute (#mutes={}):\\n\".format(len(mutes_dict)) +\\\n",
    "      \"\\n\".join([\"  {:s} {:s}\".format(str(mutes_dict[k]).rjust(5), k) \n",
    "                   for k in sorted(mutes_dict.keys())]) + \"\\n\")\n",
    "\n",
    "print(\"Notes per instrument-mute pair (#pairs={}):\\n\".format(len(instrmutes_counter)) +\\\n",
    "      \"\\n\".join([\"  {:s} {:s}\".format(str(instrmutes_counter[k]).rjust(5), k) \n",
    "                   for k in sorted(instrmutes_counter.keys())]) + \"\\n\")\n",
    "\n",
    "ipt_dict = {\n",
    "    instr_str: Counter([x.split(\"/\")[1] for x in filter(\n",
    "        lambda x: x.split(\"/\")[0].startswith(instr_str), X)])\n",
    "    for instr_str in sorted(instr_dict.keys())}\n",
    "n_techniques = len(sum(ipt_dict.values(), Counter()))\n",
    "print(\"Number of playing techniques by instrument (#techniques={}):\".format(n_techniques))\n",
    "print(\"\\n\".join([\"     \" + str(len(ipt_dict[k])) + \" \" + k for k in ipt_dict]))"
   ]
  },
  {
   "cell_type": "code",
   "execution_count": 47,
   "metadata": {},
   "outputs": [
    {
     "data": {
      "text/plain": [
       "{'Accordion': (16, 97, 81),\n",
       " 'Alto-Sax': (37, 69, 32),\n",
       " 'Bass-Tuba': (18, 53, 35),\n",
       " 'Bassoon': (22, 63, 41),\n",
       " 'Clarinet-Bb': (38, 79, 41),\n",
       " 'Contrabass': (16, 60, 44),\n",
       " 'Flute': (47, 86, 39),\n",
       " 'Guitar': (26, 71, 45),\n",
       " 'Harp': (11, 91, 80),\n",
       " 'Horn': (19, 65, 46),\n",
       " 'Oboe': (46, 81, 35),\n",
       " 'Tenor-Trombone': (10, 70, 60),\n",
       " 'Trumpet-C': (42, 74, 32),\n",
       " 'Viola': (36, 84, 48),\n",
       " 'Violin': (43, 88, 45),\n",
       " 'Violoncello': (24, 72, 48)}"
      ]
     },
     "execution_count": 47,
     "metadata": {},
     "output_type": "execute_result"
    }
   ],
   "source": [
    "pitch_classes = [\"C\", \"C#\", \"D\", \"D#\", \"E\", \"F\", \"F#\", \"G\", \"G#\", \"A\", \"A#\", \"B\"]\n",
    "midi_strs = [x + str(n) for n in range(10) for x in pitch_classes]\n",
    "pitch_dict = {}\n",
    "for instr_str in sorted(instr_dict.keys()):\n",
    "    X_instr = [\n",
    "        x for x in X\n",
    "        if x.split(\"/\")[0]==instr_str and\n",
    "           x.split(\"/\")[1]==\"ordinario\"]\n",
    "    instr_midi_list = [\n",
    "        midi_dict[x.split(\"/\")[2].split(\"-\")[2]] for x in X_instr]\n",
    "    pitch_dict[instr_str] = (\n",
    "        min(instr_midi_list), max(instr_midi_list), max(instr_midi_list)-min(instr_midi_list))\n",
    "pitch_dict"
   ]
  },
  {
   "cell_type": "code",
   "execution_count": 48,
   "metadata": {},
   "outputs": [
    {
     "data": {
      "text/plain": [
       "25444"
      ]
     },
     "execution_count": 48,
     "metadata": {},
     "output_type": "execute_result"
    }
   ],
   "source": [
    "len(X)"
   ]
  },
  {
   "cell_type": "code",
   "execution_count": null,
   "metadata": {},
   "outputs": [],
   "source": []
  }
 ],
 "metadata": {
  "kernelspec": {
   "display_name": "Python 3",
   "language": "python",
   "name": "python3"
  },
  "language_info": {
   "codemirror_mode": {
    "name": "ipython",
    "version": 3
   },
   "file_extension": ".py",
   "mimetype": "text/x-python",
   "name": "python",
   "nbconvert_exporter": "python",
   "pygments_lexer": "ipython3",
   "version": "3.7.4"
  }
 },
 "nbformat": 4,
 "nbformat_minor": 2
}
